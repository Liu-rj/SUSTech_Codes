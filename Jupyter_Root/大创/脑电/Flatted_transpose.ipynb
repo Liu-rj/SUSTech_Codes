{
 "cells": [
  {
   "cell_type": "code",
   "execution_count": 1,
   "id": "46c98acd",
   "metadata": {},
   "outputs": [],
   "source": [
    "import numpy as np\n",
    "import matplotlib.pyplot as plt\n",
    "import warnings\n",
    "from time import time\n",
    "import seaborn as sns\n",
    "import pandas as pd\n",
    "sns.set(rc={'figure.figsize':(12,8)})\n",
    "\n",
    "# mne import\n",
    "import mne\n",
    "from mne import Epochs, pick_types, events_from_annotations\n",
    "from mne.io import concatenate_raws\n",
    "from mne.io.edf import read_raw_edf\n",
    "from mne.datasets import eegbci\n",
    "from mne.preprocessing import (ICA, create_eog_epochs, create_ecg_epochs, corrmap, Xdawn)\n",
    "from mne.time_frequency import AverageTFR\n",
    "from mne.channels import make_standard_montage\n",
    "from mne.decoding import LinearModel, Vectorizer, get_coef, Scaler, CSP, SPoC, UnsupervisedSpatialFilter\n",
    "from mne.time_frequency import psd_welch\n",
    "mne.set_log_level('WARNING')\n",
    "\n",
    "import sklearn\n",
    "from sklearn.model_selection import StratifiedKFold, cross_val_score\n",
    "from sklearn.pipeline import make_pipeline\n",
    "from sklearn.preprocessing import LabelEncoder\n",
    "from sklearn.pipeline import Pipeline\n",
    "from sklearn.preprocessing import StandardScaler\n",
    "from sklearn.linear_model import LogisticRegression, Ridge\n",
    "from sklearn.discriminant_analysis import LinearDiscriminantAnalysis, QuadraticDiscriminantAnalysis\n",
    "from sklearn.model_selection import ShuffleSplit, cross_val_score\n",
    "from sklearn.decomposition import PCA, FastICA\n",
    "from sklearn.preprocessing import FunctionTransformer, MinMaxScaler\n",
    "from sklearn.ensemble import RandomForestClassifier\n",
    "from sklearn.feature_selection import SelectKBest, f_classif\n",
    "from sklearn import datasets\n",
    "from sklearn.model_selection import train_test_split\n",
    "from sklearn.svm import SVC\n",
    "from sklearn.model_selection import GridSearchCV\n",
    "from sklearn import metrics"
   ]
  },
  {
   "cell_type": "code",
   "execution_count": 2,
   "id": "f591590d",
   "metadata": {},
   "outputs": [],
   "source": [
    "# random forest\n",
    "def rfc(data):\n",
    "    x = data[[*np.arange(0, len(epochs_data[0]))]]\n",
    "    y = data['label'].astype('int64')\n",
    "\n",
    "    x_train,x_test,y_train,y_test = train_test_split(x,y)\n",
    "\n",
    "    rfc = RandomForestClassifier().fit(x_train,y_train)\n",
    "    return rfc.score(x_test, y_test)"
   ]
  },
  {
   "cell_type": "code",
   "execution_count": 3,
   "id": "dd52042e",
   "metadata": {},
   "outputs": [],
   "source": [
    "# svm\n",
    "def svm(data):\n",
    "    x = data[[*np.arange(0, len(epochs_data[0]))]]\n",
    "    y = data['label'].astype('int64')\n",
    "\n",
    "    scaler = StandardScaler()\n",
    "    scaler.fit(x)\n",
    "    x= scaler.transform(x)\n",
    "\n",
    "    x_train,x_test,y_train,y_test = train_test_split(x,y)\n",
    "\n",
    "    svc = SVC().fit(x_train,y_train)\n",
    "    return svc.score(x_test, y_test)"
   ]
  },
  {
   "cell_type": "code",
   "execution_count": 4,
   "id": "2e4410ce",
   "metadata": {},
   "outputs": [],
   "source": [
    "dates = [720,721,723,724,725,726,727,728,729,730,731,731,801,801,802,804,804]\n",
    "persons = ['dzq','zyy','wsy','lzz','fcx','zjs','thn','lj','cs','lzr','hyb','wzx','tjq','cfl','lpy','dzq2','lgm']\n",
    "nums = [3, 5, 4, 6, 5, 7, 4, 3, 3, 6, 4, 6, 5, 6, 6, 4, 6]"
   ]
  },
  {
   "cell_type": "code",
   "execution_count": 5,
   "id": "45d6390f",
   "metadata": {},
   "outputs": [
    {
     "name": "stdout",
     "output_type": "stream",
     "text": [
      "[0.9488245642091796]\n",
      "[0.9488245642091796, 0.9644970414201184]\n",
      "[0.9488245642091796, 0.9644970414201184, 0.9445555111288818]\n",
      "[0.9488245642091796, 0.9644970414201184, 0.9445555111288818, 0.9381932621369241]\n",
      "[0.9488245642091796, 0.9644970414201184, 0.9445555111288818, 0.9381932621369241, 0.9455752641271687]\n",
      "[0.9488245642091796, 0.9644970414201184, 0.9445555111288818, 0.9381932621369241, 0.9455752641271687, 0.9142192497819134]\n",
      "i = 0 -- done\n"
     ]
    },
    {
     "data": {
      "image/png": "[encoded data removed]",
      "text/plain": [
       "<Figure size 1440x576 with 1 Axes>"
      ]
     },
     "metadata": {},
     "output_type": "display_data"
    }
   ],
   "source": [
    "%matplotlib inline\n",
    "for i in range(len(persons)):\n",
    "    person = persons[i]\n",
    "    num = nums[i]\n",
    "    date = dates[i]\n",
    "    raw = []\n",
    "    # import data\n",
    "#     for j in range(num):\n",
    "    f = \"E:\\大创\\data\\EEG/0{}{}_eyesImagine{}-edf-pre.edf\".format(date, person, 1)\n",
    "    raw_files = read_raw_edf(f, preload=True, stim_channel='auto')\n",
    "    raw.append(raw_files)\n",
    "    # data preprocess\n",
    "    raw = concatenate_raws(raw)\n",
    "    events, event_dict = mne.events_from_annotations(raw)\n",
    "    subkey = ['S  1','S  2','S  3','S 10']\n",
    "    event_ids = dict([(key, event_dict[key]) for key in subkey])\n",
    "    event_id_compose = [{'S  1':event_ids['S  1'], 'S  2':event_ids['S  2']},\n",
    "                {'S  1':event_ids['S  1'], 'S  3':event_ids['S  3']},\n",
    "                {'S  2':event_ids['S  2'], 'S  3':event_ids['S  3']},\n",
    "                {'S  1':event_ids['S  1'], 'S 10':event_ids['S 10']},\n",
    "                {'S  2':event_ids['S  2'], 'S 10':event_ids['S 10']},\n",
    "                {'S  3':event_ids['S  3'], 'S 10':event_ids['S 10']}]\n",
    "    acc = []\n",
    "    # model train & fit & predict\n",
    "    for event_id in event_id_compose:\n",
    "        tmin, tmax = -0.5, 4.5\n",
    "        picks = pick_types(raw.info, meg=False, eeg=True, stim=True, eog=False)\n",
    "        epochs = Epochs(raw, events, event_id, tmin, tmax, proj=True, picks=picks, baseline=None, preload=True)\n",
    "        epochs_data = epochs.get_data()\n",
    "        labels = epochs.events[:, -1]\n",
    "        temp = labels.min()\n",
    "        labels = labels - temp\n",
    "        data = pd.DataFrame(columns=[*np.arange(0, len(epochs_data[0])), 'label'])\n",
    "        for k in range(len(epochs_data)):\n",
    "            tmp = pd.DataFrame(epochs_data[k]).transpose()\n",
    "            tmp['label'] = labels[k]\n",
    "            data = pd.concat([data, tmp], axis=0)\n",
    "\n",
    "        acc.append(rfc(data))\n",
    "        print(acc)\n",
    "#         acc.append(svm(data))\n",
    "#         print(acc)\n",
    "\n",
    "    # result visualization\n",
    "    plt.style.use(\"ggplot\")\n",
    "    states = [\"See-Imagine Vs See-Unimagine\", \"See-Unimagine Vs Unsee-Imagine\",\"See-Imagine Vs Unsee-Imagine\",\\\n",
    "             \"See-Unimagine Vs Unsee-Unimagine\",\"See-Imagine Vs Unsee-Unimagine\",\"Unsee-Imagine Vs Unsee-Unimagine\"]\n",
    "#     rfc_r = acc[::2]\n",
    "#     svm_r = acc[1::2]\n",
    "    xticks = np.arange(len(states))\n",
    "    fig, ax = plt.subplots(figsize=(20, 8))\n",
    "    ax.bar(xticks, acc, width=0.2, label=\"rfc\", color=\"blue\")\n",
    "#     ax.bar(xticks + 0.2, svm_r, width=0.2, label=\"svm\", color=\"blue\")\n",
    "    ax.set_title(\"Movement classification (rfc)\", fontsize=18, fontweight='heavy')\n",
    "    ax.set_xlabel(\"{}_{}\".format(date,person), fontsize=16, fontweight='heavy')\n",
    "    ax.set_ylabel(\"Accuracy\", fontsize=16, fontweight='heavy')\n",
    "    plt.yticks(np.arange(0, 1.1, 0.1))\n",
    "    ax.legend()\n",
    "    # 最后调整x轴标签的位置\n",
    "    ax.set_xticks(xticks + 0.05)\n",
    "    ax.set_xticklabels(states)\n",
    "#     plt.savefig(\"E:/大创/result_脑电/flatted_{}_{}\".format(date,person), bbox_inches='tight')\n",
    "    print('i = {} -- done'.format(i))\n",
    "    break"
   ]
  }
 ],
 "metadata": {
  "kernelspec": {
   "display_name": "Python 3",
   "language": "python",
   "name": "python3"
  },
  "language_info": {
   "codemirror_mode": {
    "name": "ipython",
    "version": 3
   },
   "file_extension": ".py",
   "mimetype": "text/x-python",
   "name": "python",
   "nbconvert_exporter": "python",
   "pygments_lexer": "ipython3",
   "version": "3.7.3"
  }
 },
 "nbformat": 4,
 "nbformat_minor": 5
}
