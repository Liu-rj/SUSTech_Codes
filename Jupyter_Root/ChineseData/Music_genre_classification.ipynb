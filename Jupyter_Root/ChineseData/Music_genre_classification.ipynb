{
 "cells": [
  {
   "cell_type": "markdown",
   "metadata": {
    "colab_type": "text",
    "id": "cNnM2w-HCeb1"
   },
   "source": [
    "# Chinese Singer Classification Notebook"
   ]
  },
  {
   "cell_type": "markdown",
   "metadata": {
    "colab_type": "text",
    "id": "2l3sppZMCydR"
   },
   "source": [
    "## Importing Libraries"
   ]
  },
  {
   "cell_type": "code",
   "execution_count": 3,
   "metadata": {
    "colab": {},
    "colab_type": "code",
    "id": "Gt3fyg6dCNvX"
   },
   "outputs": [
    {
     "name": "stderr",
     "output_type": "stream",
     "text": [
      "Using TensorFlow backend.\n",
      "C:\\Users\\21548\\Anaconda3\\lib\\site-packages\\tensorflow\\python\\framework\\dtypes.py:516: FutureWarning: Passing (type, 1) or '1type' as a synonym of type is deprecated; in a future version of numpy, it will be understood as (type, (1,)) / '(1,)type'.\n",
      "  _np_qint8 = np.dtype([(\"qint8\", np.int8, 1)])\n",
      "C:\\Users\\21548\\Anaconda3\\lib\\site-packages\\tensorflow\\python\\framework\\dtypes.py:517: FutureWarning: Passing (type, 1) or '1type' as a synonym of type is deprecated; in a future version of numpy, it will be understood as (type, (1,)) / '(1,)type'.\n",
      "  _np_quint8 = np.dtype([(\"quint8\", np.uint8, 1)])\n",
      "C:\\Users\\21548\\Anaconda3\\lib\\site-packages\\tensorflow\\python\\framework\\dtypes.py:518: FutureWarning: Passing (type, 1) or '1type' as a synonym of type is deprecated; in a future version of numpy, it will be understood as (type, (1,)) / '(1,)type'.\n",
      "  _np_qint16 = np.dtype([(\"qint16\", np.int16, 1)])\n",
      "C:\\Users\\21548\\Anaconda3\\lib\\site-packages\\tensorflow\\python\\framework\\dtypes.py:519: FutureWarning: Passing (type, 1) or '1type' as a synonym of type is deprecated; in a future version of numpy, it will be understood as (type, (1,)) / '(1,)type'.\n",
      "  _np_quint16 = np.dtype([(\"quint16\", np.uint16, 1)])\n",
      "C:\\Users\\21548\\Anaconda3\\lib\\site-packages\\tensorflow\\python\\framework\\dtypes.py:520: FutureWarning: Passing (type, 1) or '1type' as a synonym of type is deprecated; in a future version of numpy, it will be understood as (type, (1,)) / '(1,)type'.\n",
      "  _np_qint32 = np.dtype([(\"qint32\", np.int32, 1)])\n",
      "C:\\Users\\21548\\Anaconda3\\lib\\site-packages\\tensorflow\\python\\framework\\dtypes.py:525: FutureWarning: Passing (type, 1) or '1type' as a synonym of type is deprecated; in a future version of numpy, it will be understood as (type, (1,)) / '(1,)type'.\n",
      "  np_resource = np.dtype([(\"resource\", np.ubyte, 1)])\n",
      "C:\\Users\\21548\\Anaconda3\\lib\\site-packages\\tensorboard\\compat\\tensorflow_stub\\dtypes.py:541: FutureWarning: Passing (type, 1) or '1type' as a synonym of type is deprecated; in a future version of numpy, it will be understood as (type, (1,)) / '(1,)type'.\n",
      "  _np_qint8 = np.dtype([(\"qint8\", np.int8, 1)])\n",
      "C:\\Users\\21548\\Anaconda3\\lib\\site-packages\\tensorboard\\compat\\tensorflow_stub\\dtypes.py:542: FutureWarning: Passing (type, 1) or '1type' as a synonym of type is deprecated; in a future version of numpy, it will be understood as (type, (1,)) / '(1,)type'.\n",
      "  _np_quint8 = np.dtype([(\"quint8\", np.uint8, 1)])\n",
      "C:\\Users\\21548\\Anaconda3\\lib\\site-packages\\tensorboard\\compat\\tensorflow_stub\\dtypes.py:543: FutureWarning: Passing (type, 1) or '1type' as a synonym of type is deprecated; in a future version of numpy, it will be understood as (type, (1,)) / '(1,)type'.\n",
      "  _np_qint16 = np.dtype([(\"qint16\", np.int16, 1)])\n",
      "C:\\Users\\21548\\Anaconda3\\lib\\site-packages\\tensorboard\\compat\\tensorflow_stub\\dtypes.py:544: FutureWarning: Passing (type, 1) or '1type' as a synonym of type is deprecated; in a future version of numpy, it will be understood as (type, (1,)) / '(1,)type'.\n",
      "  _np_quint16 = np.dtype([(\"quint16\", np.uint16, 1)])\n",
      "C:\\Users\\21548\\Anaconda3\\lib\\site-packages\\tensorboard\\compat\\tensorflow_stub\\dtypes.py:545: FutureWarning: Passing (type, 1) or '1type' as a synonym of type is deprecated; in a future version of numpy, it will be understood as (type, (1,)) / '(1,)type'.\n",
      "  _np_qint32 = np.dtype([(\"qint32\", np.int32, 1)])\n",
      "C:\\Users\\21548\\Anaconda3\\lib\\site-packages\\tensorboard\\compat\\tensorflow_stub\\dtypes.py:550: FutureWarning: Passing (type, 1) or '1type' as a synonym of type is deprecated; in a future version of numpy, it will be understood as (type, (1,)) / '(1,)type'.\n",
      "  np_resource = np.dtype([(\"resource\", np.ubyte, 1)])\n"
     ]
    }
   ],
   "source": [
    "# feature extractoring and preprocessing data\n",
    "import librosa\n",
    "import pandas as pd\n",
    "import numpy as np\n",
    "import matplotlib.pyplot as plt\n",
    "%matplotlib inline\n",
    "import os\n",
    "from PIL import Image\n",
    "import pathlib\n",
    "import csv\n",
    "\n",
    "# Preprocessing\n",
    "from sklearn.model_selection import train_test_split\n",
    "from sklearn.preprocessing import LabelEncoder, StandardScaler\n",
    "\n",
    "#Keras\n",
    "import keras\n",
    "\n",
    "import warnings\n",
    "warnings.filterwarnings('ignore')"
   ]
  },
  {
   "cell_type": "markdown",
   "metadata": {
    "colab_type": "text",
    "id": "AfBSVfRCD3PE"
   },
   "source": [
    "## Extracting the Spectrogram for every Audio"
   ]
  },
  {
   "cell_type": "code",
   "execution_count": 8,
   "metadata": {
    "colab": {},
    "colab_type": "code",
    "id": "BHh3pTEVDdrT"
   },
   "outputs": [
    {
     "data": {
      "text/plain": [
       "<Figure size 720x720 with 0 Axes>"
      ]
     },
     "metadata": {},
     "output_type": "display_data"
    }
   ],
   "source": [
    "cmap = plt.get_cmap('inferno')\n",
    "\n",
    "plt.figure(figsize=(10,10))\n",
    "save_dir=os.path.join(r'E:\\Data\\ChineseData\\SpectrogramData')\n",
    "wave_file=os.listdir(r'E:\\Data\\ChineseData\\WaveDataset')\n",
    "for index, wav in enumerate(wave_file):\n",
    "    if index <73:\n",
    "        continue\n",
    "    file_path = f'E:/Data/ChineseData/WaveDataset/{wav}'\n",
    "    try:\n",
    "        y, sr=librosa.load(file_path,mono=True,offset=60,duration=60)\n",
    "    except:\n",
    "        continue\n",
    "    plt.specgram(y, NFFT=2048, Fs=2, Fc=0, noverlap=128, cmap=cmap, sides='default', mode='default', scale='dB')\n",
    "    plt.axis('off')\n",
    "    file_id=wav.split('.')[0]\n",
    "    file_name=file_id+\".png\"\n",
    "    plt.savefig(os.path.join(save_dir,file_name))\n",
    "    plt.clf()"
   ]
  },
  {
   "cell_type": "markdown",
   "metadata": {
    "colab_type": "text",
    "id": "SszVgjYnFNX9"
   },
   "source": [
    "All the audio files get converted into their respective spectrograms .WE can noe easily extract features from them."
   ]
  },
  {
   "cell_type": "markdown",
   "metadata": {
    "colab_type": "text",
    "id": "3Nw9HpSdFRsW"
   },
   "source": []
  },
  {
   "cell_type": "markdown",
   "metadata": {
    "colab_type": "text",
    "id": "piwUwgP5Eef9"
   },
   "source": [
    "## Extracting features from Spectrogram\n",
    "\n",
    "\n",
    "We will extract\n",
    "\n",
    "* Mel-frequency cepstral coefficients (MFCC)(20 in number)\n",
    "* Spectral Centroid,\n",
    "* Zero Crossing Rate\n",
    "* Chroma Frequencies\n",
    "* Spectral Roll-off."
   ]
  },
  {
   "cell_type": "code",
   "execution_count": 9,
   "metadata": {
    "colab": {},
    "colab_type": "code",
    "id": "__g8tX8pDeIL"
   },
   "outputs": [],
   "source": [
    "header = 'filename chroma_stft rmse spectral_centroid spectral_bandwidth rolloff zero_crossing_rate'\n",
    "for i in range(1, 21):\n",
    "    header += f' mfcc{i}'\n",
    "header += ' label'\n",
    "header = header.split()"
   ]
  },
  {
   "cell_type": "markdown",
   "metadata": {
    "colab_type": "text",
    "id": "TBlT448pEqR9"
   },
   "source": [
    "## Writing data to csv file\n",
    "\n",
    "We write the data to a csv file "
   ]
  },
  {
   "cell_type": "code",
   "execution_count": null,
   "metadata": {},
   "outputs": [],
   "source": [
    "label = {}\n",
    "with open(r'E:\\Data\\ChineseData\\annotation.txt', 'r') as f:\n",
    "    for line in f.readlines():\n",
    "        seg = line.rstrip('\\n').split(' ')\n",
    "        label[seg[0]] = seg[1]"
   ]
  },
  {
   "cell_type": "code",
   "execution_count": 24,
   "metadata": {
    "colab": {},
    "colab_type": "code",
    "id": "ZsSQmB0PE3Iu"
   },
   "outputs": [],
   "source": [
    "file = open(r'E:\\Data\\ChineseData\\data.csv', 'w', newline='')\n",
    "with file:\n",
    "    writer = csv.writer(file)\n",
    "    writer.writerow(header)\n",
    "for filename in wave_file:\n",
    "    songname = f'E:/Data/ChineseData/WaveDataset/{filename}'\n",
    "    try:\n",
    "        y, sr=librosa.load(songname,mono=True,offset=60,duration=60)\n",
    "    except:\n",
    "        continue\n",
    "    chroma_stft = librosa.feature.chroma_stft(y=y, sr=sr)\n",
    "    rmse = librosa.feature.rms(y=y)\n",
    "    spec_cent = librosa.feature.spectral_centroid(y=y, sr=sr)\n",
    "    spec_bw = librosa.feature.spectral_bandwidth(y=y, sr=sr)\n",
    "    rolloff = librosa.feature.spectral_rolloff(y=y, sr=sr)\n",
    "    zcr = librosa.feature.zero_crossing_rate(y)\n",
    "    mfcc = librosa.feature.mfcc(y=y, sr=sr)\n",
    "    to_append = f'{filename} {np.mean(chroma_stft)} {np.mean(rmse)} {np.mean(spec_cent)} {np.mean(spec_bw)} {np.mean(rolloff)} {np.mean(zcr)}'    \n",
    "    for e in mfcc:\n",
    "        to_append += f' {np.mean(e)}'\n",
    "    to_append += f' {label[filename]}'\n",
    "    file = open(r'E:\\Data\\ChineseData\\data.csv', 'a', newline='')\n",
    "    with file:\n",
    "        writer = csv.writer(file)\n",
    "        writer.writerow(to_append.split())"
   ]
  },
  {
   "cell_type": "markdown",
   "metadata": {
    "colab_type": "text",
    "id": "0yfdo1cj6V7d"
   },
   "source": [
    "The data has been extracted into a [data.csv](https://github.com/parulnith/Music-Genre-Classification-with-Python/blob/master/data.csv) file."
   ]
  },
  {
   "cell_type": "markdown",
   "metadata": {
    "colab_type": "text",
    "id": "fgeCZSKQEp1A"
   },
   "source": [
    "# Analysing the Data in Pandas"
   ]
  },
  {
   "cell_type": "code",
   "execution_count": 25,
   "metadata": {
    "colab": {
     "base_uri": "https://localhost:8080/",
     "height": 253
    },
    "colab_type": "code",
    "id": "Kr5_EdpD9dyh",
    "outputId": "81fd4a29-93fa-44f8-bf90-2f99981f761a"
   },
   "outputs": [
    {
     "data": {
      "text/html": [
       "<div>\n",
       "<style scoped>\n",
       "    .dataframe tbody tr th:only-of-type {\n",
       "        vertical-align: middle;\n",
       "    }\n",
       "\n",
       "    .dataframe tbody tr th {\n",
       "        vertical-align: top;\n",
       "    }\n",
       "\n",
       "    .dataframe thead th {\n",
       "        text-align: right;\n",
       "    }\n",
       "</style>\n",
       "<table border=\"1\" class=\"dataframe\">\n",
       "  <thead>\n",
       "    <tr style=\"text-align: right;\">\n",
       "      <th></th>\n",
       "      <th>filename</th>\n",
       "      <th>chroma_stft</th>\n",
       "      <th>rmse</th>\n",
       "      <th>spectral_centroid</th>\n",
       "      <th>spectral_bandwidth</th>\n",
       "      <th>rolloff</th>\n",
       "      <th>zero_crossing_rate</th>\n",
       "      <th>mfcc1</th>\n",
       "      <th>mfcc2</th>\n",
       "      <th>mfcc3</th>\n",
       "      <th>...</th>\n",
       "      <th>mfcc12</th>\n",
       "      <th>mfcc13</th>\n",
       "      <th>mfcc14</th>\n",
       "      <th>mfcc15</th>\n",
       "      <th>mfcc16</th>\n",
       "      <th>mfcc17</th>\n",
       "      <th>mfcc18</th>\n",
       "      <th>mfcc19</th>\n",
       "      <th>mfcc20</th>\n",
       "      <th>label</th>\n",
       "    </tr>\n",
       "  </thead>\n",
       "  <tbody>\n",
       "    <tr>\n",
       "      <th>0</th>\n",
       "      <td>0.wav</td>\n",
       "      <td>0.431378</td>\n",
       "      <td>0.199305</td>\n",
       "      <td>2292.988524</td>\n",
       "      <td>2591.975580</td>\n",
       "      <td>5262.301513</td>\n",
       "      <td>0.087465</td>\n",
       "      <td>-60.342373</td>\n",
       "      <td>84.354149</td>\n",
       "      <td>2.813634</td>\n",
       "      <td>...</td>\n",
       "      <td>9.971762</td>\n",
       "      <td>1.923018</td>\n",
       "      <td>2.397544</td>\n",
       "      <td>-0.702888</td>\n",
       "      <td>0.217624</td>\n",
       "      <td>-3.280695</td>\n",
       "      <td>3.472342</td>\n",
       "      <td>-4.312668</td>\n",
       "      <td>1.800327</td>\n",
       "      <td>0</td>\n",
       "    </tr>\n",
       "    <tr>\n",
       "      <th>1</th>\n",
       "      <td>1.wav</td>\n",
       "      <td>0.378815</td>\n",
       "      <td>0.218430</td>\n",
       "      <td>2408.813174</td>\n",
       "      <td>2556.016084</td>\n",
       "      <td>5197.456072</td>\n",
       "      <td>0.100745</td>\n",
       "      <td>-45.908920</td>\n",
       "      <td>85.624115</td>\n",
       "      <td>-1.778882</td>\n",
       "      <td>...</td>\n",
       "      <td>5.990713</td>\n",
       "      <td>-3.984214</td>\n",
       "      <td>8.866004</td>\n",
       "      <td>-1.053132</td>\n",
       "      <td>2.946227</td>\n",
       "      <td>-1.518717</td>\n",
       "      <td>5.766772</td>\n",
       "      <td>0.453489</td>\n",
       "      <td>8.956429</td>\n",
       "      <td>0</td>\n",
       "    </tr>\n",
       "    <tr>\n",
       "      <th>2</th>\n",
       "      <td>10.wav</td>\n",
       "      <td>0.360899</td>\n",
       "      <td>0.188289</td>\n",
       "      <td>1857.597344</td>\n",
       "      <td>2327.786544</td>\n",
       "      <td>4034.900602</td>\n",
       "      <td>0.067977</td>\n",
       "      <td>-119.347572</td>\n",
       "      <td>108.595215</td>\n",
       "      <td>21.491800</td>\n",
       "      <td>...</td>\n",
       "      <td>11.071996</td>\n",
       "      <td>-4.530415</td>\n",
       "      <td>2.519861</td>\n",
       "      <td>-4.387146</td>\n",
       "      <td>-2.890145</td>\n",
       "      <td>-4.872740</td>\n",
       "      <td>1.766777</td>\n",
       "      <td>-4.811665</td>\n",
       "      <td>3.598597</td>\n",
       "      <td>0</td>\n",
       "    </tr>\n",
       "    <tr>\n",
       "      <th>3</th>\n",
       "      <td>100.wav</td>\n",
       "      <td>0.333033</td>\n",
       "      <td>0.183311</td>\n",
       "      <td>1615.338791</td>\n",
       "      <td>2109.451085</td>\n",
       "      <td>3422.966802</td>\n",
       "      <td>0.068089</td>\n",
       "      <td>-98.651489</td>\n",
       "      <td>131.358276</td>\n",
       "      <td>2.993919</td>\n",
       "      <td>...</td>\n",
       "      <td>3.610813</td>\n",
       "      <td>-1.469699</td>\n",
       "      <td>3.402382</td>\n",
       "      <td>-0.699494</td>\n",
       "      <td>5.911116</td>\n",
       "      <td>-3.102954</td>\n",
       "      <td>4.852661</td>\n",
       "      <td>-5.273423</td>\n",
       "      <td>2.329937</td>\n",
       "      <td>1</td>\n",
       "    </tr>\n",
       "    <tr>\n",
       "      <th>4</th>\n",
       "      <td>101.wav</td>\n",
       "      <td>0.354197</td>\n",
       "      <td>0.101389</td>\n",
       "      <td>2309.660354</td>\n",
       "      <td>2591.067612</td>\n",
       "      <td>5189.668619</td>\n",
       "      <td>0.089040</td>\n",
       "      <td>-123.439873</td>\n",
       "      <td>93.278275</td>\n",
       "      <td>6.665424</td>\n",
       "      <td>...</td>\n",
       "      <td>0.850279</td>\n",
       "      <td>-5.320220</td>\n",
       "      <td>-0.595196</td>\n",
       "      <td>-8.889750</td>\n",
       "      <td>3.647707</td>\n",
       "      <td>-10.047231</td>\n",
       "      <td>2.864072</td>\n",
       "      <td>-5.436964</td>\n",
       "      <td>-1.346193</td>\n",
       "      <td>1</td>\n",
       "    </tr>\n",
       "  </tbody>\n",
       "</table>\n",
       "<p>5 rows × 28 columns</p>\n",
       "</div>"
      ],
      "text/plain": [
       "  filename  chroma_stft      rmse  spectral_centroid  spectral_bandwidth  \\\n",
       "0    0.wav     0.431378  0.199305        2292.988524         2591.975580   \n",
       "1    1.wav     0.378815  0.218430        2408.813174         2556.016084   \n",
       "2   10.wav     0.360899  0.188289        1857.597344         2327.786544   \n",
       "3  100.wav     0.333033  0.183311        1615.338791         2109.451085   \n",
       "4  101.wav     0.354197  0.101389        2309.660354         2591.067612   \n",
       "\n",
       "       rolloff  zero_crossing_rate       mfcc1       mfcc2      mfcc3  ...  \\\n",
       "0  5262.301513            0.087465  -60.342373   84.354149   2.813634  ...   \n",
       "1  5197.456072            0.100745  -45.908920   85.624115  -1.778882  ...   \n",
       "2  4034.900602            0.067977 -119.347572  108.595215  21.491800  ...   \n",
       "3  3422.966802            0.068089  -98.651489  131.358276   2.993919  ...   \n",
       "4  5189.668619            0.089040 -123.439873   93.278275   6.665424  ...   \n",
       "\n",
       "      mfcc12    mfcc13    mfcc14    mfcc15    mfcc16     mfcc17    mfcc18  \\\n",
       "0   9.971762  1.923018  2.397544 -0.702888  0.217624  -3.280695  3.472342   \n",
       "1   5.990713 -3.984214  8.866004 -1.053132  2.946227  -1.518717  5.766772   \n",
       "2  11.071996 -4.530415  2.519861 -4.387146 -2.890145  -4.872740  1.766777   \n",
       "3   3.610813 -1.469699  3.402382 -0.699494  5.911116  -3.102954  4.852661   \n",
       "4   0.850279 -5.320220 -0.595196 -8.889750  3.647707 -10.047231  2.864072   \n",
       "\n",
       "     mfcc19    mfcc20  label  \n",
       "0 -4.312668  1.800327      0  \n",
       "1  0.453489  8.956429      0  \n",
       "2 -4.811665  3.598597      0  \n",
       "3 -5.273423  2.329937      1  \n",
       "4 -5.436964 -1.346193      1  \n",
       "\n",
       "[5 rows x 28 columns]"
      ]
     },
     "execution_count": 25,
     "metadata": {},
     "output_type": "execute_result"
    }
   ],
   "source": [
    "data = pd.read_csv(r'E:\\Data\\ChineseData\\data.csv')\n",
    "data.head()"
   ]
  },
  {
   "cell_type": "code",
   "execution_count": 26,
   "metadata": {
    "colab": {
     "base_uri": "https://localhost:8080/",
     "height": 34
    },
    "colab_type": "code",
    "id": "iHrDHCaR9gKR",
    "outputId": "7d32943a-1ad5-4a59-c13a-beebeb36e4c2",
    "scrolled": true
   },
   "outputs": [
    {
     "data": {
      "text/plain": [
       "(500, 28)"
      ]
     },
     "execution_count": 26,
     "metadata": {},
     "output_type": "execute_result"
    }
   ],
   "source": [
    "data.shape"
   ]
  },
  {
   "cell_type": "code",
   "execution_count": 27,
   "metadata": {
    "colab": {},
    "colab_type": "code",
    "id": "veD5BgX49hZa"
   },
   "outputs": [],
   "source": [
    "# Dropping unneccesary columns\n",
    "data = data.drop(['filename'],axis=1)"
   ]
  },
  {
   "cell_type": "markdown",
   "metadata": {
    "colab_type": "text",
    "id": "Nyr0aAAsGXjZ"
   },
   "source": [
    "## Encoding the Labels"
   ]
  },
  {
   "cell_type": "code",
   "execution_count": 29,
   "metadata": {
    "colab": {},
    "colab_type": "code",
    "id": "frI5HH4q-1HS"
   },
   "outputs": [
    {
     "data": {
      "text/plain": [
       "0      0\n",
       "1      0\n",
       "2      0\n",
       "3      1\n",
       "4      1\n",
       "      ..\n",
       "495    1\n",
       "496    1\n",
       "497    1\n",
       "498    1\n",
       "499    1\n",
       "Name: label, Length: 500, dtype: int64"
      ]
     },
     "execution_count": 29,
     "metadata": {},
     "output_type": "execute_result"
    }
   ],
   "source": [
    "# genre_list = data.iloc[:, -1]\n",
    "# encoder = LabelEncoder()\n",
    "# y = encoder.fit_transform(genre_list)\n",
    "y = data.iloc[:, -1]\n",
    "y"
   ]
  },
  {
   "cell_type": "markdown",
   "metadata": {
    "colab_type": "text",
    "id": "Slm8W0-iGVhI"
   },
   "source": []
  },
  {
   "cell_type": "markdown",
   "metadata": {
    "colab_type": "text",
    "id": "_2n8a02zGfvP"
   },
   "source": [
    "## Scaling the Feature columns"
   ]
  },
  {
   "cell_type": "code",
   "execution_count": 30,
   "metadata": {
    "colab": {},
    "colab_type": "code",
    "id": "uqcqn-nyAofk"
   },
   "outputs": [],
   "source": [
    "scaler = StandardScaler()\n",
    "X = scaler.fit_transform(np.array(data.iloc[:, :-1], dtype = float))"
   ]
  },
  {
   "cell_type": "markdown",
   "metadata": {
    "colab_type": "text",
    "id": "e3VZvbwpGo9R"
   },
   "source": [
    "## Dividing data into training and Testing set"
   ]
  },
  {
   "cell_type": "code",
   "execution_count": 31,
   "metadata": {
    "colab": {},
    "colab_type": "code",
    "id": "F1GW3VvQA7Rj"
   },
   "outputs": [],
   "source": [
    "X_train, X_test, y_train, y_test = train_test_split(X, y, test_size=0.2)"
   ]
  },
  {
   "cell_type": "code",
   "execution_count": 32,
   "metadata": {
    "colab": {
     "base_uri": "https://localhost:8080/",
     "height": 34
    },
    "colab_type": "code",
    "id": "upuczQ-KBHJ5",
    "outputId": "1431a28b-e8b6-4db2-e505-7e149e37c0d7"
   },
   "outputs": [
    {
     "data": {
      "text/plain": [
       "400"
      ]
     },
     "execution_count": 32,
     "metadata": {},
     "output_type": "execute_result"
    }
   ],
   "source": [
    "len(y_train)"
   ]
  },
  {
   "cell_type": "code",
   "execution_count": 33,
   "metadata": {
    "colab": {
     "base_uri": "https://localhost:8080/",
     "height": 34
    },
    "colab_type": "code",
    "id": "LtoE_FqqBzM8",
    "outputId": "76555a2b-2030-48e1-b52d-d71b4ebae38e"
   },
   "outputs": [
    {
     "data": {
      "text/plain": [
       "100"
      ]
     },
     "execution_count": 33,
     "metadata": {},
     "output_type": "execute_result"
    }
   ],
   "source": [
    "len(y_test)"
   ]
  },
  {
   "cell_type": "code",
   "execution_count": 34,
   "metadata": {
    "colab": {
     "base_uri": "https://localhost:8080/",
     "height": 119
    },
    "colab_type": "code",
    "id": "ir9XaWgQB0lq",
    "outputId": "2ec90814-19d8-4f27-934a-1ce54406d4ea"
   },
   "outputs": [
    {
     "data": {
      "text/plain": [
       "array([ 0.39134841, -1.3866332 , -0.78610862, -0.60854285, -0.75992456,\n",
       "       -0.8049317 , -1.25711632,  0.80826881,  0.68111527,  0.99256325,\n",
       "        0.41551105, -0.23251548,  1.32189284,  0.56335387, -1.79562721,\n",
       "        1.74475754, -1.1719416 ,  0.33126953,  0.09790712, -1.28964863,\n",
       "        0.82642702, -0.04321343, -1.0031176 ,  1.06928186, -0.32268292,\n",
       "        1.14169132])"
      ]
     },
     "execution_count": 34,
     "metadata": {},
     "output_type": "execute_result"
    }
   ],
   "source": [
    "X_train[10]"
   ]
  },
  {
   "cell_type": "markdown",
   "metadata": {
    "colab_type": "text",
    "id": "Vp2yc5FWG04e"
   },
   "source": [
    "# Classification with Keras\n",
    "\n",
    "## Building our Network"
   ]
  },
  {
   "cell_type": "code",
   "execution_count": 311,
   "metadata": {
    "colab": {},
    "colab_type": "code",
    "id": "Qj3sc2uFEUMt"
   },
   "outputs": [],
   "source": [
    "from keras import models\n",
    "from keras import layers\n",
    "from keras.optimizers import Adam\n",
    "\n",
    "np.random.seed(0)\n",
    "model = models.Sequential()\n",
    "model.add(layers.Dense(128, activation='relu', input_shape=(X_train.shape[1],)))\n",
    "\n",
    "# model.add(layers.Dense(64, activation='relu'))\n",
    "\n",
    "# model.add(layers.Dense(32, activation='relu'))\n",
    "\n",
    "model.add(layers.Dense(9, activation='softmax'))"
   ]
  },
  {
   "cell_type": "code",
   "execution_count": 312,
   "metadata": {
    "colab": {},
    "colab_type": "code",
    "id": "7yrsmpI6EjJ2"
   },
   "outputs": [],
   "source": [
    "model.compile(optimizer=Adam(0.0005),\n",
    "              loss='sparse_categorical_crossentropy',\n",
    "              metrics=['accuracy'])"
   ]
  },
  {
   "cell_type": "code",
   "execution_count": 313,
   "metadata": {
    "colab": {
     "base_uri": "https://localhost:8080/",
     "height": 697
    },
    "colab_type": "code",
    "id": "bP0hVm4aElS7",
    "outputId": "aacf234d-d0a9-4de4-91be-5fd45a33b279"
   },
   "outputs": [
    {
     "name": "stdout",
     "output_type": "stream",
     "text": [
      "Epoch 1/110\n",
      "400/400 [==============================] - 0s 748us/step - loss: 2.2657 - accuracy: 0.1100\n",
      "Epoch 2/110\n",
      "400/400 [==============================] - 0s 52us/step - loss: 2.1290 - accuracy: 0.1925\n",
      "Epoch 3/110\n",
      "400/400 [==============================] - 0s 50us/step - loss: 2.0219 - accuracy: 0.2825\n",
      "Epoch 4/110\n",
      "400/400 [==============================] - 0s 52us/step - loss: 1.9230 - accuracy: 0.3500\n",
      "Epoch 5/110\n",
      "400/400 [==============================] - 0s 62us/step - loss: 1.8354 - accuracy: 0.4000\n",
      "Epoch 6/110\n",
      "400/400 [==============================] - 0s 57us/step - loss: 1.7574 - accuracy: 0.4525\n",
      "Epoch 7/110\n",
      "400/400 [==============================] - 0s 61us/step - loss: 1.6823 - accuracy: 0.4900\n",
      "Epoch 8/110\n",
      "400/400 [==============================] - 0s 62us/step - loss: 1.6133 - accuracy: 0.5400\n",
      "Epoch 9/110\n",
      "400/400 [==============================] - 0s 52us/step - loss: 1.5495 - accuracy: 0.5725\n",
      "Epoch 10/110\n",
      "400/400 [==============================] - 0s 65us/step - loss: 1.4890 - accuracy: 0.6025\n",
      "Epoch 11/110\n",
      "400/400 [==============================] - 0s 55us/step - loss: 1.4302 - accuracy: 0.6275\n",
      "Epoch 12/110\n",
      "400/400 [==============================] - 0s 60us/step - loss: 1.3774 - accuracy: 0.6425\n",
      "Epoch 13/110\n",
      "400/400 [==============================] - 0s 55us/step - loss: 1.3259 - accuracy: 0.6700\n",
      "Epoch 14/110\n",
      "400/400 [==============================] - 0s 62us/step - loss: 1.2795 - accuracy: 0.7000\n",
      "Epoch 15/110\n",
      "400/400 [==============================] - 0s 59us/step - loss: 1.2335 - accuracy: 0.7125\n",
      "Epoch 16/110\n",
      "400/400 [==============================] - 0s 55us/step - loss: 1.1892 - accuracy: 0.7300\n",
      "Epoch 17/110\n",
      "400/400 [==============================] - 0s 62us/step - loss: 1.1496 - accuracy: 0.7375\n",
      "Epoch 18/110\n",
      "400/400 [==============================] - 0s 49us/step - loss: 1.1123 - accuracy: 0.7450\n",
      "Epoch 19/110\n",
      "400/400 [==============================] - 0s 60us/step - loss: 1.0754 - accuracy: 0.7600\n",
      "Epoch 20/110\n",
      "400/400 [==============================] - 0s 58us/step - loss: 1.0416 - accuracy: 0.7750\n",
      "Epoch 21/110\n",
      "400/400 [==============================] - ETA: 0s - loss: 1.0211 - accuracy: 0.78 - 0s 63us/step - loss: 1.0092 - accuracy: 0.7800\n",
      "Epoch 22/110\n",
      "400/400 [==============================] - 0s 54us/step - loss: 0.9783 - accuracy: 0.7900\n",
      "Epoch 23/110\n",
      "400/400 [==============================] - 0s 60us/step - loss: 0.9489 - accuracy: 0.7975\n",
      "Epoch 24/110\n",
      "400/400 [==============================] - 0s 61us/step - loss: 0.9226 - accuracy: 0.8075\n",
      "Epoch 25/110\n",
      "400/400 [==============================] - 0s 57us/step - loss: 0.8960 - accuracy: 0.8100\n",
      "Epoch 26/110\n",
      "400/400 [==============================] - 0s 60us/step - loss: 0.8709 - accuracy: 0.8150\n",
      "Epoch 27/110\n",
      "400/400 [==============================] - 0s 62us/step - loss: 0.8472 - accuracy: 0.8175\n",
      "Epoch 28/110\n",
      "400/400 [==============================] - 0s 72us/step - loss: 0.8239 - accuracy: 0.8350\n",
      "Epoch 29/110\n",
      "400/400 [==============================] - 0s 75us/step - loss: 0.8035 - accuracy: 0.8325\n",
      "Epoch 30/110\n",
      "400/400 [==============================] - 0s 60us/step - loss: 0.7830 - accuracy: 0.8325\n",
      "Epoch 31/110\n",
      "400/400 [==============================] - 0s 72us/step - loss: 0.7628 - accuracy: 0.8475\n",
      "Epoch 32/110\n",
      "400/400 [==============================] - 0s 72us/step - loss: 0.7434 - accuracy: 0.8575\n",
      "Epoch 33/110\n",
      "400/400 [==============================] - 0s 57us/step - loss: 0.7256 - accuracy: 0.8650\n",
      "Epoch 34/110\n",
      "400/400 [==============================] - 0s 57us/step - loss: 0.7082 - accuracy: 0.8650\n",
      "Epoch 35/110\n",
      "400/400 [==============================] - 0s 57us/step - loss: 0.6929 - accuracy: 0.8725\n",
      "Epoch 36/110\n",
      "400/400 [==============================] - 0s 66us/step - loss: 0.6761 - accuracy: 0.8725\n",
      "Epoch 37/110\n",
      "400/400 [==============================] - 0s 60us/step - loss: 0.6620 - accuracy: 0.8725\n",
      "Epoch 38/110\n",
      "400/400 [==============================] - 0s 57us/step - loss: 0.6465 - accuracy: 0.8725\n",
      "Epoch 39/110\n",
      "400/400 [==============================] - 0s 62us/step - loss: 0.6321 - accuracy: 0.8725\n",
      "Epoch 40/110\n",
      "400/400 [==============================] - 0s 60us/step - loss: 0.6180 - accuracy: 0.8775\n",
      "Epoch 41/110\n",
      "400/400 [==============================] - 0s 67us/step - loss: 0.6051 - accuracy: 0.8800\n",
      "Epoch 42/110\n",
      "400/400 [==============================] - 0s 62us/step - loss: 0.5916 - accuracy: 0.8775\n",
      "Epoch 43/110\n",
      "400/400 [==============================] - 0s 65us/step - loss: 0.5807 - accuracy: 0.8875\n",
      "Epoch 44/110\n",
      "400/400 [==============================] - 0s 57us/step - loss: 0.5689 - accuracy: 0.8850\n",
      "Epoch 45/110\n",
      "400/400 [==============================] - 0s 57us/step - loss: 0.5584 - accuracy: 0.8850\n",
      "Epoch 46/110\n",
      "400/400 [==============================] - 0s 57us/step - loss: 0.5457 - accuracy: 0.8875\n",
      "Epoch 47/110\n",
      "400/400 [==============================] - 0s 65us/step - loss: 0.5355 - accuracy: 0.8875\n",
      "Epoch 48/110\n",
      "400/400 [==============================] - 0s 65us/step - loss: 0.5245 - accuracy: 0.8975\n",
      "Epoch 49/110\n",
      "400/400 [==============================] - 0s 62us/step - loss: 0.5141 - accuracy: 0.9000\n",
      "Epoch 50/110\n",
      "400/400 [==============================] - 0s 62us/step - loss: 0.5050 - accuracy: 0.9000\n",
      "Epoch 51/110\n",
      "400/400 [==============================] - 0s 62us/step - loss: 0.4961 - accuracy: 0.9025\n",
      "Epoch 52/110\n",
      "400/400 [==============================] - 0s 55us/step - loss: 0.4857 - accuracy: 0.9050\n",
      "Epoch 53/110\n",
      "400/400 [==============================] - 0s 67us/step - loss: 0.4778 - accuracy: 0.9050\n",
      "Epoch 54/110\n",
      "400/400 [==============================] - 0s 45us/step - loss: 0.4685 - accuracy: 0.9075\n",
      "Epoch 55/110\n",
      "400/400 [==============================] - 0s 50us/step - loss: 0.4604 - accuracy: 0.9050\n",
      "Epoch 56/110\n",
      "400/400 [==============================] - 0s 50us/step - loss: 0.4523 - accuracy: 0.9050\n",
      "Epoch 57/110\n",
      "400/400 [==============================] - 0s 50us/step - loss: 0.4442 - accuracy: 0.9075\n",
      "Epoch 58/110\n",
      "400/400 [==============================] - 0s 47us/step - loss: 0.4369 - accuracy: 0.9075\n",
      "Epoch 59/110\n",
      "400/400 [==============================] - 0s 52us/step - loss: 0.4292 - accuracy: 0.9100\n",
      "Epoch 60/110\n",
      "400/400 [==============================] - 0s 62us/step - loss: 0.4217 - accuracy: 0.9100\n",
      "Epoch 61/110\n",
      "400/400 [==============================] - 0s 70us/step - loss: 0.4138 - accuracy: 0.9125\n",
      "Epoch 62/110\n",
      "400/400 [==============================] - 0s 70us/step - loss: 0.4073 - accuracy: 0.9175\n",
      "Epoch 63/110\n",
      "400/400 [==============================] - 0s 57us/step - loss: 0.4005 - accuracy: 0.9175\n",
      "Epoch 64/110\n",
      "400/400 [==============================] - 0s 80us/step - loss: 0.3939 - accuracy: 0.9200\n",
      "Epoch 65/110\n",
      "400/400 [==============================] - 0s 65us/step - loss: 0.3874 - accuracy: 0.9200\n",
      "Epoch 66/110\n",
      "400/400 [==============================] - 0s 47us/step - loss: 0.3808 - accuracy: 0.9200\n",
      "Epoch 67/110\n",
      "400/400 [==============================] - 0s 45us/step - loss: 0.3742 - accuracy: 0.9225\n",
      "Epoch 68/110\n",
      "400/400 [==============================] - 0s 50us/step - loss: 0.3681 - accuracy: 0.9325\n",
      "Epoch 69/110\n",
      "400/400 [==============================] - 0s 46us/step - loss: 0.3626 - accuracy: 0.9325\n",
      "Epoch 70/110\n",
      "400/400 [==============================] - 0s 46us/step - loss: 0.3565 - accuracy: 0.9400\n",
      "Epoch 71/110\n",
      "400/400 [==============================] - 0s 45us/step - loss: 0.3505 - accuracy: 0.9375\n",
      "Epoch 72/110\n",
      "400/400 [==============================] - 0s 42us/step - loss: 0.3448 - accuracy: 0.9375\n",
      "Epoch 73/110\n",
      "400/400 [==============================] - 0s 44us/step - loss: 0.3401 - accuracy: 0.9375\n",
      "Epoch 74/110\n",
      "400/400 [==============================] - 0s 47us/step - loss: 0.3348 - accuracy: 0.9450\n",
      "Epoch 75/110\n",
      "400/400 [==============================] - 0s 45us/step - loss: 0.3290 - accuracy: 0.9425\n",
      "Epoch 76/110\n",
      "400/400 [==============================] - 0s 45us/step - loss: 0.3243 - accuracy: 0.9425\n",
      "Epoch 77/110\n",
      "400/400 [==============================] - 0s 60us/step - loss: 0.3192 - accuracy: 0.9450\n",
      "Epoch 78/110\n",
      "400/400 [==============================] - 0s 67us/step - loss: 0.3148 - accuracy: 0.9450\n",
      "Epoch 79/110\n",
      "400/400 [==============================] - 0s 62us/step - loss: 0.3092 - accuracy: 0.9475\n",
      "Epoch 80/110\n",
      "400/400 [==============================] - 0s 57us/step - loss: 0.3046 - accuracy: 0.9500\n",
      "Epoch 81/110\n",
      "400/400 [==============================] - 0s 67us/step - loss: 0.3000 - accuracy: 0.9500\n",
      "Epoch 82/110\n",
      "400/400 [==============================] - 0s 42us/step - loss: 0.2956 - accuracy: 0.9500\n",
      "Epoch 83/110\n",
      "400/400 [==============================] - 0s 57us/step - loss: 0.2907 - accuracy: 0.9500\n",
      "Epoch 84/110\n",
      "400/400 [==============================] - 0s 58us/step - loss: 0.2863 - accuracy: 0.9525\n",
      "Epoch 85/110\n",
      "400/400 [==============================] - 0s 52us/step - loss: 0.2824 - accuracy: 0.9525\n",
      "Epoch 86/110\n",
      "400/400 [==============================] - 0s 55us/step - loss: 0.2786 - accuracy: 0.9550\n",
      "Epoch 87/110\n",
      "400/400 [==============================] - 0s 52us/step - loss: 0.2737 - accuracy: 0.9575\n",
      "Epoch 88/110\n",
      "400/400 [==============================] - 0s 55us/step - loss: 0.2694 - accuracy: 0.9575\n",
      "Epoch 89/110\n",
      "400/400 [==============================] - 0s 52us/step - loss: 0.2658 - accuracy: 0.9575\n",
      "Epoch 90/110\n",
      "400/400 [==============================] - 0s 57us/step - loss: 0.2617 - accuracy: 0.9575\n",
      "Epoch 91/110\n",
      "400/400 [==============================] - 0s 50us/step - loss: 0.2575 - accuracy: 0.9575\n",
      "Epoch 92/110\n",
      "400/400 [==============================] - 0s 62us/step - loss: 0.2535 - accuracy: 0.9600\n",
      "Epoch 93/110\n",
      "400/400 [==============================] - ETA: 0s - loss: 0.2159 - accuracy: 0.96 - 0s 57us/step - loss: 0.2497 - accuracy: 0.9625\n",
      "Epoch 94/110\n",
      "400/400 [==============================] - 0s 65us/step - loss: 0.2457 - accuracy: 0.9600\n",
      "Epoch 95/110\n",
      "400/400 [==============================] - 0s 62us/step - loss: 0.2421 - accuracy: 0.9650\n",
      "Epoch 96/110\n",
      "400/400 [==============================] - 0s 55us/step - loss: 0.2385 - accuracy: 0.9650\n",
      "Epoch 97/110\n",
      "400/400 [==============================] - 0s 60us/step - loss: 0.2352 - accuracy: 0.9675\n",
      "Epoch 98/110\n",
      "400/400 [==============================] - 0s 62us/step - loss: 0.2318 - accuracy: 0.9675\n",
      "Epoch 99/110\n",
      "400/400 [==============================] - 0s 48us/step - loss: 0.2281 - accuracy: 0.9675\n",
      "Epoch 100/110\n",
      "400/400 [==============================] - 0s 72us/step - loss: 0.2244 - accuracy: 0.9675\n",
      "Epoch 101/110\n",
      "400/400 [==============================] - 0s 62us/step - loss: 0.2213 - accuracy: 0.9700\n",
      "Epoch 102/110\n",
      "400/400 [==============================] - 0s 72us/step - loss: 0.2179 - accuracy: 0.9725\n",
      "Epoch 103/110\n",
      "400/400 [==============================] - 0s 55us/step - loss: 0.2147 - accuracy: 0.9725\n",
      "Epoch 104/110\n",
      "400/400 [==============================] - 0s 57us/step - loss: 0.2113 - accuracy: 0.9700\n",
      "Epoch 105/110\n",
      "400/400 [==============================] - 0s 52us/step - loss: 0.2086 - accuracy: 0.9725\n",
      "Epoch 106/110\n",
      "400/400 [==============================] - 0s 55us/step - loss: 0.2050 - accuracy: 0.9750\n",
      "Epoch 107/110\n",
      "400/400 [==============================] - 0s 46us/step - loss: 0.2024 - accuracy: 0.9750\n",
      "Epoch 108/110\n",
      "400/400 [==============================] - 0s 48us/step - loss: 0.1996 - accuracy: 0.9775\n",
      "Epoch 109/110\n",
      "400/400 [==============================] - 0s 48us/step - loss: 0.1959 - accuracy: 0.9775\n",
      "Epoch 110/110\n",
      "400/400 [==============================] - 0s 50us/step - loss: 0.1938 - accuracy: 0.9775\n"
     ]
    }
   ],
   "source": [
    "history = model.fit(X_train,\n",
    "                    y_train,\n",
    "                    epochs=110,\n",
    "                    batch_size=32)"
   ]
  },
  {
   "cell_type": "code",
   "execution_count": 314,
   "metadata": {
    "colab": {
     "base_uri": "https://localhost:8080/",
     "height": 34
    },
    "colab_type": "code",
    "id": "0m1J0_wUFK4C",
    "outputId": "ffd3bf36-29ea-437a-987c-9aa600b9dae6"
   },
   "outputs": [
    {
     "name": "stdout",
     "output_type": "stream",
     "text": [
      "100/100 [==============================] - 0s 3ms/step\n"
     ]
    }
   ],
   "source": [
    "test_loss, test_acc = model.evaluate(X_test,y_test)"
   ]
  },
  {
   "cell_type": "code",
   "execution_count": 315,
   "metadata": {
    "colab": {
     "base_uri": "https://localhost:8080/",
     "height": 34
    },
    "colab_type": "code",
    "id": "f6HrjXeUF0Ko",
    "outputId": "ea282dbd-6f9e-48c7-de2d-dc9afde8949e"
   },
   "outputs": [
    {
     "name": "stdout",
     "output_type": "stream",
     "text": [
      "test_acc:  0.7599999904632568\n"
     ]
    }
   ],
   "source": [
    "print('test_acc: ',test_acc)"
   ]
  },
  {
   "cell_type": "markdown",
   "metadata": {
    "colab_type": "text",
    "id": "3yQmP_f5Kq0w"
   },
   "source": [
    "Tes accuracy is less than training dataa accuracy. This hints at Overfitting"
   ]
  },
  {
   "cell_type": "markdown",
   "metadata": {},
   "source": [
    "# SVM"
   ]
  },
  {
   "cell_type": "code",
   "execution_count": 69,
   "metadata": {},
   "outputs": [
    {
     "name": "stdout",
     "output_type": "stream",
     "text": [
      "0.74\n",
      "0.66\n",
      "0.66\n"
     ]
    }
   ],
   "source": [
    "from sklearn.svm import SVC\n",
    "from sklearn import metrics\n",
    "# svm_model=SVC(kernel='sigmoid')\n",
    "# svm_model.fit(X_train,y_train)\n",
    "# y_predict=svm.\n",
    "kernelList = ['linear','rbf','sigmoid']         \n",
    "\n",
    "for kernel in kernelList:\n",
    "    svc = SVC(kernel=kernel).fit(X_train,y_train)\n",
    "    y_pred = svc.predict(X_test)\n",
    "    score_svc = metrics.accuracy_score(y_test,y_pred)\n",
    "    print(score_svc)"
   ]
  },
  {
   "cell_type": "code",
   "execution_count": 74,
   "metadata": {},
   "outputs": [
    {
     "name": "stdout",
     "output_type": "stream",
     "text": [
      "gamma=0.01时,得分最高=0.7\n"
     ]
    },
    {
     "data": {
      "text/plain": [
       "[<matplotlib.lines.Line2D at 0x211a897c630>]"
      ]
     },
     "execution_count": 74,
     "metadata": {},
     "output_type": "execute_result"
    },
    {
     "data": {
      "image/png": "[encoded data removed]",
      "text/plain": [
       "<Figure size 432x288 with 1 Axes>"
      ]
     },
     "metadata": {
      "needs_background": "light"
     },
     "output_type": "display_data"
    }
   ],
   "source": [
    "score_gamma=[]\n",
    "gammaList=np.logspace(-10,1,100)\n",
    "\n",
    "for gamma in gammaList:\n",
    "    svc = SVC(gamma=gamma, kernel='rbf').fit(X_train,y_train)\n",
    "    score_gamma.append(svc.score(X_test,y_test))\n",
    "\n",
    "print('gamma={}时,得分最高={}'.format(gammaList[score_gamma.index(max(score_gamma))],max(score_gamma)))\n",
    "\n",
    "plt.plot(gammaList,score_gamma)"
   ]
  },
  {
   "cell_type": "markdown",
   "metadata": {},
   "source": [
    "# Random Forest"
   ]
  },
  {
   "cell_type": "code",
   "execution_count": 93,
   "metadata": {},
   "outputs": [
    {
     "data": {
      "text/plain": [
       "{'k': [10],\n",
       " 'auc_train': [0.705],\n",
       " 'auc_test': [0.43],\n",
       " 'recall': [0.39148860398860397]}"
      ]
     },
     "execution_count": 93,
     "metadata": {},
     "output_type": "execute_result"
    }
   ],
   "source": [
    "from sklearn.ensemble import RandomForestClassifier\n",
    "from sklearn.model_selection import cross_val_score\n",
    "from sklearn.metrics import recall_score\n",
    "rf_model = RandomForestClassifier(n_estimators = 10, criterion=\"gini\",max_depth=4)\n",
    "rf_model.fit(X_train, y_train)\n",
    "acu_train = rf_model.score(X_train, y_train)\n",
    "acu_test = rf_model.score(X_test, y_test)\n",
    "y_pred = rf_model.predict(X_test)\n",
    "recall = recall_score(y_test, y_pred, average=\"macro\")\n",
    "result = {\n",
    "              \"k\":[],\n",
    "              \"auc_train\": [],\n",
    "              \"auc_test\": [],\n",
    "              \"recall\": []\n",
    "              }\n",
    "result[\"k\"].append(10)\n",
    "result[\"auc_train\"].append(acu_train)\n",
    "result[\"auc_test\"].append(acu_test)\n",
    "result[\"recall\"].append(recall)\n",
    "result"
   ]
  }
 ],
 "metadata": {
  "accelerator": "TPU",
  "colab": {
   "include_colab_link": true,
   "name": "Untitled9.ipynb",
   "provenance": [],
   "version": "0.3.2"
  },
  "kernelspec": {
   "display_name": "Python 3",
   "language": "python",
   "name": "python3"
  },
  "language_info": {
   "codemirror_mode": {
    "name": "ipython",
    "version": 3
   },
   "file_extension": ".py",
   "mimetype": "text/x-python",
   "name": "python",
   "nbconvert_exporter": "python",
   "pygments_lexer": "ipython3",
   "version": "3.7.3"
  }
 },
 "nbformat": 4,
 "nbformat_minor": 1
}
