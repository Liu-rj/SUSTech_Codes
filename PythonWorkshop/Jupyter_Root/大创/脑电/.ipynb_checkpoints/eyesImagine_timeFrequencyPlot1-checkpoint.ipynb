{
 "cells": [
  {
   "cell_type": "code",
   "execution_count": 1,
   "metadata": {},
   "outputs": [
    {
     "ename": "ModuleNotFoundError",
     "evalue": "No module named 'mne'",
     "output_type": "error",
     "traceback": [
      "\u001b[1;31m---------------------------------------------------------------------------\u001b[0m",
      "\u001b[1;31mModuleNotFoundError\u001b[0m                       Traceback (most recent call last)",
      "\u001b[1;32m<ipython-input-1-a6d8a2a07d87>\u001b[0m in \u001b[0;36m<module>\u001b[1;34m\u001b[0m\n\u001b[0;32m      7\u001b[0m \u001b[1;33m\u001b[0m\u001b[0m\n\u001b[0;32m      8\u001b[0m \u001b[1;31m# mne import\u001b[0m\u001b[1;33m\u001b[0m\u001b[1;33m\u001b[0m\u001b[1;33m\u001b[0m\u001b[0m\n\u001b[1;32m----> 9\u001b[1;33m \u001b[1;32mimport\u001b[0m \u001b[0mmne\u001b[0m\u001b[1;33m\u001b[0m\u001b[1;33m\u001b[0m\u001b[0m\n\u001b[0m\u001b[0;32m     10\u001b[0m \u001b[1;32mfrom\u001b[0m \u001b[0mmne\u001b[0m \u001b[1;32mimport\u001b[0m \u001b[0mEpochs\u001b[0m\u001b[1;33m,\u001b[0m \u001b[0mpick_types\u001b[0m\u001b[1;33m,\u001b[0m \u001b[0mevents_from_annotations\u001b[0m\u001b[1;33m\u001b[0m\u001b[1;33m\u001b[0m\u001b[0m\n\u001b[0;32m     11\u001b[0m \u001b[1;32mfrom\u001b[0m \u001b[0mmne\u001b[0m\u001b[1;33m.\u001b[0m\u001b[0mio\u001b[0m \u001b[1;32mimport\u001b[0m \u001b[0mconcatenate_raws\u001b[0m\u001b[1;33m\u001b[0m\u001b[1;33m\u001b[0m\u001b[0m\n",
      "\u001b[1;31mModuleNotFoundError\u001b[0m: No module named 'mne'"
     ]
    }
   ],
   "source": [
    "import numpy as np\n",
    "import matplotlib.pyplot as plt\n",
    "import warnings\n",
    "from time import time\n",
    "import seaborn as sns\n",
    "sns.set(rc={'figure.figsize':(12,8)})\n",
    "\n",
    "# mne import\n",
    "import mne\n",
    "from mne import Epochs, pick_types, events_from_annotations\n",
    "from mne.io import concatenate_raws\n",
    "from mne.io.edf import read_raw_edf\n",
    "from mne.datasets import eegbci\n",
    "from mne.preprocessing import (ICA, create_eog_epochs, create_ecg_epochs, corrmap, Xdawn)\n",
    "from mne.time_frequency import AverageTFR\n",
    "from mne.channels import make_standard_montage\n",
    "from mne.decoding import LinearModel, Vectorizer, get_coef, Scaler, CSP, SPoC, UnsupervisedSpatialFilter\n",
    "from mne.time_frequency import psd_welch\n",
    "mne.set_log_level('WARNING')\n",
    "\n",
    "import sklearn\n",
    "from sklearn.model_selection import StratifiedKFold, cross_val_score\n",
    "from sklearn.pipeline import make_pipeline\n",
    "from sklearn.preprocessing import LabelEncoder\n",
    "from sklearn.pipeline import Pipeline\n",
    "from sklearn.preprocessing import StandardScaler\n",
    "from sklearn.linear_model import LogisticRegression, Ridge\n",
    "from sklearn.discriminant_analysis import LinearDiscriminantAnalysis, QuadraticDiscriminantAnalysis\n",
    "from sklearn.model_selection import ShuffleSplit, cross_val_score\n",
    "from sklearn.decomposition import PCA, FastICA\n",
    "from sklearn.preprocessing import FunctionTransformer, MinMaxScaler\n",
    "from sklearn.ensemble import RandomForestClassifier\n",
    "from sklearn.feature_selection import SelectKBest, f_classif\n",
    "from sklearn import datasets\n",
    "from sklearn.model_selection import train_test_split"
   ]
  },
  {
   "cell_type": "code",
   "execution_count": null,
   "metadata": {},
   "outputs": [],
   "source": [
    "# generate raw files and add them together\n",
    "raw = []\n",
    "date = [720,721,723,724,725,726,727,728,729,730,731,731,801,801]\n",
    "persons = ['dzq','zyy','wsy','lzz','fcx','zjs','thn','lj','cs','lzr','hyb','wzx','tjq','cfl']\n",
    "for i in range(1,7):\n",
    "    f = \"C:\\Vision\\EEG\\export/0{}{}_eyeImagine{}-edf-pre.edf\".format(date[3],persons[3],i)\n",
    "    raw_files = read_raw_edf(f, preload=True, stim_channel='auto')\n",
    "    raw.append(raw_files)\n"
   ]
  },
  {
   "cell_type": "code",
   "execution_count": null,
   "metadata": {},
   "outputs": [],
   "source": [
    "raw"
   ]
  },
  {
   "cell_type": "code",
   "execution_count": null,
   "metadata": {},
   "outputs": [],
   "source": [
    "# generate events\n",
    "raw = concatenate_raws(raw)\n",
    "events, event_dict = mne.events_from_annotations(raw)\n",
    "\n",
    "# plot events points\n",
    "fig = mne.viz.plot_events(events, sfreq=raw.info['sfreq'],\n",
    "                          first_samp=raw.first_samp, event_id=event_dict)\n",
    "fig.subplots_adjust(right=0.7)  # make room for legend"
   ]
  },
  {
   "cell_type": "code",
   "execution_count": null,
   "metadata": {},
   "outputs": [],
   "source": [
    "# create corresponding labels\n",
    "subkey = ['S  1','S  2','S  3','S 10']\n",
    "print(dict([(key, event_dict[key]) for key in subkey]))\n",
    "event_ids = dict([(key, event_dict[key]) for key in subkey])"
   ]
  },
  {
   "cell_type": "code",
   "execution_count": null,
   "metadata": {},
   "outputs": [],
   "source": [
    "# specify events named s1, s2, s3 and s10 \n",
    "tmin, tmax = 0, 5\n",
    "picks = pick_types(raw.info, meg=False, eeg=True, stim=True, eog=False)\n",
    "epoch1 = Epochs(raw, events, {'S  1':event_dict['S  1']}, tmin, tmax, proj=True, picks=picks, baseline=None, preload=True)\n",
    "epoch2 = Epochs(raw, events, {'S  2':event_dict['S  2']}, tmin, tmax, proj=True, picks=picks, baseline=None, preload=True)\n",
    "epoch3 = Epochs(raw, events, {'S  3':event_dict['S  3']}, tmin, tmax, proj=True, picks=picks, baseline=None, preload=True)\n",
    "epoch10 = Epochs(raw, events, {'S 10':event_dict['S 10']}, tmin, tmax, proj=True, picks=picks, baseline=None, preload=True)"
   ]
  },
  {
   "cell_type": "code",
   "execution_count": null,
   "metadata": {},
   "outputs": [],
   "source": [
    "# time_frequency analysis of s1 and s2\n",
    "freqs = np.logspace(*np.log10([6, 9]), num=8)\n",
    "n_cycles = freqs / 2.  # different number of cycle per frequency\n",
    "power, itc = tfr_morlet(epoch2, freqs=freqs, n_cycles=n_cycles, use_fft=True,\n",
    "                        return_itc=True, decim=2, n_jobs=1)"
   ]
  },
  {
   "cell_type": "code",
   "execution_count": null,
   "metadata": {},
   "outputs": [],
   "source": [
    "# plot\n",
    "fig, ax=plt.subplots(1, 2, figsize=(12, 8))\n",
    "power.plot(baseline=(-0.5, 0), mode='mean', title='all good channels')"
   ]
  }
 ],
 "metadata": {
  "kernelspec": {
   "display_name": "Python 3",
   "language": "python",
   "name": "python3"
  },
  "language_info": {
   "codemirror_mode": {
    "name": "ipython",
    "version": 3
   },
   "file_extension": ".py",
   "mimetype": "text/x-python",
   "name": "python",
   "nbconvert_exporter": "python",
   "pygments_lexer": "ipython3",
   "version": "3.8.5"
  }
 },
 "nbformat": 4,
 "nbformat_minor": 4
}
